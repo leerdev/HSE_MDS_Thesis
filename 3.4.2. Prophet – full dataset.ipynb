{
 "cells": [
  {
   "cell_type": "code",
   "execution_count": 1,
   "metadata": {},
   "outputs": [],
   "source": [
    "import warnings\n",
    "warnings.filterwarnings('ignore')\n",
    "import pickle\n",
    "import pandas as pd\n",
    "from prophet import Prophet\n",
    "from sklearn.metrics import mean_squared_error as mse\n",
    "from sklearn.metrics import mean_absolute_percentage_error as mape"
   ]
  },
  {
   "cell_type": "code",
   "execution_count": 2,
   "metadata": {},
   "outputs": [
    {
     "data": {
      "text/html": [
       "<div>\n",
       "<style scoped>\n",
       "    .dataframe tbody tr th:only-of-type {\n",
       "        vertical-align: middle;\n",
       "    }\n",
       "\n",
       "    .dataframe tbody tr th {\n",
       "        vertical-align: top;\n",
       "    }\n",
       "\n",
       "    .dataframe thead th {\n",
       "        text-align: right;\n",
       "    }\n",
       "</style>\n",
       "<table border=\"1\" class=\"dataframe\">\n",
       "  <thead>\n",
       "    <tr style=\"text-align: right;\">\n",
       "      <th></th>\n",
       "      <th>node</th>\n",
       "      <th>node_name</th>\n",
       "      <th>neib_index</th>\n",
       "      <th>neib_node</th>\n",
       "      <th>0</th>\n",
       "      <th>1</th>\n",
       "      <th>2</th>\n",
       "      <th>3</th>\n",
       "      <th>4</th>\n",
       "      <th>5</th>\n",
       "      <th>...</th>\n",
       "      <th>1419</th>\n",
       "      <th>1420</th>\n",
       "      <th>1421</th>\n",
       "      <th>1422</th>\n",
       "      <th>1423</th>\n",
       "      <th>1424</th>\n",
       "      <th>1425</th>\n",
       "      <th>1426</th>\n",
       "      <th>1427</th>\n",
       "      <th>1428</th>\n",
       "    </tr>\n",
       "  </thead>\n",
       "  <tbody>\n",
       "    <tr>\n",
       "      <th>0</th>\n",
       "      <td>100001</td>\n",
       "      <td>Асбест</td>\n",
       "      <td>[26, 61, 62, 720, 721, 722, 723, 725, 726, 728]</td>\n",
       "      <td>[100028, 100063, 100064, 101036, 101037, 10103...</td>\n",
       "      <td>1227.2242</td>\n",
       "      <td>1241.8453</td>\n",
       "      <td>1245.6560</td>\n",
       "      <td>1247.9730</td>\n",
       "      <td>1196.1394</td>\n",
       "      <td>1278.2474</td>\n",
       "      <td>...</td>\n",
       "      <td>1687.601635</td>\n",
       "      <td>1373.512108</td>\n",
       "      <td>1706.934806</td>\n",
       "      <td>1737.370083</td>\n",
       "      <td>1744.597307</td>\n",
       "      <td>1551.456345</td>\n",
       "      <td>1526.791555</td>\n",
       "      <td>1496.149319</td>\n",
       "      <td>1643.579499</td>\n",
       "      <td>1553.756279</td>\n",
       "    </tr>\n",
       "    <tr>\n",
       "      <th>1</th>\n",
       "      <td>100003</td>\n",
       "      <td>Травянская 1 СШ 220</td>\n",
       "      <td>[6, 14, 78, 79, 87, 93, 729, 732, 750, 758]</td>\n",
       "      <td>[100008, 100016, 100080, 100081, 100089, 10009...</td>\n",
       "      <td>1253.7522</td>\n",
       "      <td>1266.2651</td>\n",
       "      <td>1268.6195</td>\n",
       "      <td>1271.0367</td>\n",
       "      <td>1221.8423</td>\n",
       "      <td>1307.6155</td>\n",
       "      <td>...</td>\n",
       "      <td>1740.775327</td>\n",
       "      <td>1477.795452</td>\n",
       "      <td>1752.449603</td>\n",
       "      <td>1686.724408</td>\n",
       "      <td>1576.992991</td>\n",
       "      <td>1591.783919</td>\n",
       "      <td>1570.577347</td>\n",
       "      <td>1541.377099</td>\n",
       "      <td>1685.148284</td>\n",
       "      <td>1594.559387</td>\n",
       "    </tr>\n",
       "  </tbody>\n",
       "</table>\n",
       "<p>2 rows × 1433 columns</p>\n",
       "</div>"
      ],
      "text/plain": [
       "     node            node_name  \\\n",
       "0  100001               Асбест   \n",
       "1  100003  Травянская 1 СШ 220   \n",
       "\n",
       "                                        neib_index  \\\n",
       "0  [26, 61, 62, 720, 721, 722, 723, 725, 726, 728]   \n",
       "1      [6, 14, 78, 79, 87, 93, 729, 732, 750, 758]   \n",
       "\n",
       "                                           neib_node          0          1  \\\n",
       "0  [100028, 100063, 100064, 101036, 101037, 10103...  1227.2242  1241.8453   \n",
       "1  [100008, 100016, 100080, 100081, 100089, 10009...  1253.7522  1266.2651   \n",
       "\n",
       "           2          3          4          5  ...         1419         1420  \\\n",
       "0  1245.6560  1247.9730  1196.1394  1278.2474  ...  1687.601635  1373.512108   \n",
       "1  1268.6195  1271.0367  1221.8423  1307.6155  ...  1740.775327  1477.795452   \n",
       "\n",
       "          1421         1422         1423         1424         1425  \\\n",
       "0  1706.934806  1737.370083  1744.597307  1551.456345  1526.791555   \n",
       "1  1752.449603  1686.724408  1576.992991  1591.783919  1570.577347   \n",
       "\n",
       "          1426         1427         1428  \n",
       "0  1496.149319  1643.579499  1553.756279  \n",
       "1  1541.377099  1685.148284  1594.559387  \n",
       "\n",
       "[2 rows x 1433 columns]"
      ]
     },
     "execution_count": 2,
     "metadata": {},
     "output_type": "execute_result"
    }
   ],
   "source": [
    "# all data file\n",
    "with open('all_data.pkl', 'rb') as f:\n",
    "    df = pickle.load(f)\n",
    "df.head(2)"
   ]
  },
  {
   "cell_type": "code",
   "execution_count": 3,
   "metadata": {},
   "outputs": [],
   "source": [
    "def get_neighbors(data, n):\n",
    "    t = data[data['node']==n]['neib_node'].values.flatten().tolist()[0]\n",
    "    return t"
   ]
  },
  {
   "cell_type": "code",
   "execution_count": 4,
   "metadata": {},
   "outputs": [],
   "source": [
    "def get_prices(data, n):\n",
    "    prices_cols = data.columns[4:]\n",
    "    t = data[data['node']==n][prices_cols].values.flatten().tolist()\n",
    "    return t"
   ]
  },
  {
   "cell_type": "code",
   "execution_count": 5,
   "metadata": {},
   "outputs": [],
   "source": [
    "def forecast_prophet(data, forecast_days):\n",
    "    train, test = data[:-forecast_days], data[-forecast_days:]\n",
    "    m = Prophet(changepoint_prior_scale = 0.01, seasonality_prior_scale = 0.01)\n",
    "    m = m.fit(train)\n",
    "    future = m.make_future_dataframe(periods=forecast_days)\n",
    "    forecast = m.predict(future)\n",
    "    yhat = forecast['yhat'][-forecast_days:]\n",
    "    rmse_res = mse(test['y'], yhat, squared=False)\n",
    "    mape_res = mape(test['y'], yhat)\n",
    "    return round(rmse_res, 2), round(mape_res, 3)"
   ]
  },
  {
   "cell_type": "code",
   "execution_count": 6,
   "metadata": {},
   "outputs": [],
   "source": [
    "def forecast_prophet_lagged(data, forecast_days, lag):\n",
    "    neibs = data.columns.to_list()[2:]\n",
    "    for neib in neibs:\n",
    "        data[neib] = data[neib].shift(lag)\n",
    "\n",
    "    \n",
    "    data.dropna(inplace=True)\n",
    "    train, test = data[:-forecast_days], data[-forecast_days:]\n",
    "    \n",
    "    m = Prophet(changepoint_prior_scale = 0.01, seasonality_prior_scale = 0.01)\n",
    "    for neib in neibs:\n",
    "        m.add_regressor(neib)\n",
    "        \n",
    "    m = m.fit(train)\n",
    "    \n",
    "    future = m.make_future_dataframe(periods=forecast_size, include_history=False)\n",
    "    for neib in neibs:\n",
    "        future[neib] = test[neib].to_list() #including test nodes as they are historical - shifted\n",
    "    forecast = m.predict(future)\n",
    "    \n",
    "    yhat = forecast['yhat'][-forecast_days:]\n",
    "    rmse_res = mse(test['y'], yhat, squared=False)\n",
    "    mape_res = mape(test['y'], yhat)\n",
    "    return round(rmse_res, 2), round(mape_res, 3)"
   ]
  },
  {
   "cell_type": "code",
   "execution_count": 7,
   "metadata": {},
   "outputs": [],
   "source": [
    "list_of_nodes = df['node'].tolist()"
   ]
  },
  {
   "cell_type": "code",
   "execution_count": 8,
   "metadata": {
    "scrolled": true
   },
   "outputs": [
    {
     "name": "stdout",
     "output_type": "stream",
     "text": [
      "working for number of neighbor: 1\n",
      "1006113 --> 0 --> 1795     \r"
     ]
    }
   ],
   "source": [
    "#disabiling prophet info messages\n",
    "import logging\n",
    "logging.getLogger(\"prophet\").setLevel(logging.ERROR)\n",
    "logging.getLogger(\"cmdstanpy\").disabled=True\n",
    "\n",
    "nodes_for_forecast = list_of_nodes #[100419]\n",
    "dates = pd.date_range(start='2019-12-05', periods = 1429)\n",
    "forecast_size=30\n",
    "neighbors_number= 1\n",
    "\n",
    "result = {'node':[], 'RMSE_1':[], 'MAPE_1':[], 'RMSE_2':[], 'MAPE_2':[]}\n",
    "counter = 0\n",
    "k=len(list_of_nodes)\n",
    "\n",
    "print(\"working for number of neighbor:\", neighbors_number)\n",
    "\n",
    "for node in nodes_for_forecast:\n",
    "    # print(\"working for:\", node)\n",
    "    prices = get_prices(df, node)\n",
    "#     print(len(prices))\n",
    "    curr_df = pd.DataFrame(data = {'ds':dates, 'y':prices})\n",
    "    \n",
    "    rmse_1, mape_1 = forecast_prophet (curr_df, forecast_size)\n",
    "    #print(\"RMSE base:\", rmse_ret_base, \"MAPE base:\", mape_ret_base)\n",
    "    \n",
    "    # add neighbors\n",
    "    neighbors = get_neighbors(df, node)[:neighbors_number]\n",
    "    for neighbor in neighbors:\n",
    "        p = get_prices(df, neighbor)\n",
    "        if (len(p) == 1429):\n",
    "            curr_df[str(neighbor)] = p\n",
    "    \n",
    "    rmse_2, mape_2 = forecast_prophet_lagged(curr_df, forecast_size, 366)\n",
    "\n",
    "    #print(\"RMSE lagg:\", rmse_ret_lagged, \"MAPE lagg:\", mape_ret_lagged)\n",
    "    result['node'].append(node)\n",
    "    result['RMSE_1'].append(rmse_1)\n",
    "    result['MAPE_1'].append(mape_1)\n",
    "    result['RMSE_2'].append(rmse_2)\n",
    "    result['MAPE_2'].append(mape_2)\n",
    "    if (rmse_1 > rmse_2):\n",
    "        counter +=1\n",
    "    else: counter-=1\n",
    "        \n",
    "    k-=1   \n",
    "    print(str(node) + \" --> \"+ str(k) + \" --> \"+str(counter)+\"   \", end=\"\\r\")\n",
    "    "
   ]
  },
  {
   "cell_type": "code",
   "execution_count": 9,
   "metadata": {},
   "outputs": [],
   "source": [
    "# Save results!!"
   ]
  },
  {
   "cell_type": "code",
   "execution_count": 13,
   "metadata": {},
   "outputs": [],
   "source": [
    "with open('all_data_PRF_1_neighb.pkl', 'wb') as f:\n",
    "    pickle.dump(result, f)"
   ]
  },
  {
   "cell_type": "code",
   "execution_count": null,
   "metadata": {},
   "outputs": [],
   "source": []
  },
  {
   "cell_type": "code",
   "execution_count": null,
   "metadata": {},
   "outputs": [],
   "source": []
  },
  {
   "cell_type": "code",
   "execution_count": null,
   "metadata": {},
   "outputs": [],
   "source": []
  },
  {
   "cell_type": "code",
   "execution_count": 11,
   "metadata": {},
   "outputs": [],
   "source": [
    "df = pd.DataFrame.from_dict(result)"
   ]
  },
  {
   "cell_type": "code",
   "execution_count": 12,
   "metadata": {},
   "outputs": [
    {
     "data": {
      "text/plain": [
       "(200.11568636433043, 194.15874179264011)"
      ]
     },
     "execution_count": 12,
     "metadata": {},
     "output_type": "execute_result"
    }
   ],
   "source": [
    "df['RMSE_1'].mean(), df['RMSE_2'].mean()"
   ]
  }
 ],
 "metadata": {
  "kernelspec": {
   "display_name": "Python 3",
   "language": "python",
   "name": "python3"
  },
  "language_info": {
   "codemirror_mode": {
    "name": "ipython",
    "version": 3
   },
   "file_extension": ".py",
   "mimetype": "text/x-python",
   "name": "python",
   "nbconvert_exporter": "python",
   "pygments_lexer": "ipython3",
   "version": "3.8.5"
  }
 },
 "nbformat": 4,
 "nbformat_minor": 4
}
